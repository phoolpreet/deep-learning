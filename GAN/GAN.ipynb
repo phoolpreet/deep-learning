{
  "cells": [
    {
      "cell_type": "code",
      "execution_count": null,
      "metadata": {
        "id": "2Hc1NiY7DZGX"
      },
      "outputs": [],
      "source": [
        "import sys\n",
        "sys.path.append('/content/drive/My Drive/Codes/Deep_Learning/GAN/')\n",
        "\n",
        "# from google.colab import drive\n",
        "# drive.mount('/content/drive')"
      ]
    },
    {
      "cell_type": "code",
      "execution_count": null,
      "metadata": {
        "id": "02vediq5DVUW"
      },
      "outputs": [],
      "source": [
        "from torch.utils.data import DataLoader\n",
        "from torchvision.datasets import ImageFolder\n",
        "from torchvision import models\n",
        "import torch.nn.functional as Functional\n",
        "from torchvision import transforms\n",
        "from PIL import Image\n",
        "import numpy as np\n",
        "from matplotlib import pyplot as plt\n",
        "from matplotlib import pyplot as plt\n",
        "import torch\n",
        "import torch.nn as nn"
      ]
    },
    {
      "cell_type": "code",
      "execution_count": null,
      "metadata": {
        "id": "UADRt2hYDVUY"
      },
      "outputs": [],
      "source": [
        "# anime face data\n",
        "image_size = 64\n",
        "batch_size = 128\n",
        "stats = (0.5, 0.5, 0.5), (0.5, 0.5, 0.5)"
      ]
    },
    {
      "cell_type": "code",
      "execution_count": null,
      "metadata": {
        "id": "ZfCp_XYCDVUZ"
      },
      "outputs": [],
      "source": [
        "train_ds = ImageFolder(\n",
        "    root=\"/content/drive/MyDrive/CODES/Deep_Learning/data/anime-face\",\n",
        "    transform=transforms.Compose(\n",
        "        [\n",
        "            transforms.Resize(image_size),\n",
        "            transforms.CenterCrop(image_size),\n",
        "            transforms.ToTensor(),\n",
        "            transforms.Normalize(mean=[0.485, 0.456, 0.406], std=[0.229, 0.224, 0.225]),\n",
        "        ]\n",
        "    ),\n",
        ")\n",
        "train_dl = DataLoader(train_ds, batch_size=batch_size, shuffle=True, num_workers=3, pin_memory=True)"
      ]
    },
    {
      "cell_type": "code",
      "execution_count": null,
      "metadata": {
        "id": "uHZfa_skDVUa"
      },
      "outputs": [],
      "source": [
        "device = torch.device(\"cpu\")\n",
        "if torch.cuda.is_available():\n",
        "    device = torch.device(\"cuda\")\n",
        "\n",
        "\n",
        "def to_device(data, device):\n",
        "    if isinstance(data, (list, tuple)):\n",
        "        return [to_device(x, device) for x in data]\n",
        "    return data.to(device, non_blocking=True)\n",
        "\n",
        "\n",
        "class DeviceDataLoader:\n",
        "    def __init__(self, data_loader, device):\n",
        "        self.data_loader = data_loader\n",
        "        self.device = device\n",
        "\n",
        "    def __iter__(self):\n",
        "        for b in self.data_loader:\n",
        "            yield to_device(b, self.device)\n",
        "\n",
        "    def __len__(self):\n",
        "        return len(self.data_loader)"
      ]
    },
    {
      "cell_type": "code",
      "execution_count": null,
      "metadata": {
        "colab": {
          "base_uri": "https://localhost:8080/"
        },
        "id": "l2eTFEgODVUb",
        "outputId": "7f7eb218-e21d-49f1-f1d8-3ed864d16dc5"
      },
      "outputs": [
        {
          "data": {
            "text/plain": [
              "device(type='cpu')"
            ]
          },
          "execution_count": 16,
          "metadata": {},
          "output_type": "execute_result"
        }
      ],
      "source": [
        "train_dl = DeviceDataLoader(train_dl, device)\n",
        "device"
      ]
    },
    {
      "cell_type": "code",
      "execution_count": null,
      "metadata": {
        "id": "PS8PjYUeDVUb"
      },
      "outputs": [],
      "source": [
        "discriminator = torch.nn.Sequential(\n",
        "    nn.Conv2d(3, 64, kernel_size=4, stride=2, padding=1, bias=False),\n",
        "    nn.BatchNorm2d(64),\n",
        "    nn.LeakyReLU(0.2, inplace=True),\n",
        "    # out: 64 x 32 x 32\n",
        "    nn.Conv2d(64, 128, kernel_size=4, stride=2, padding=1, bias=False),\n",
        "    nn.BatchNorm2d(128),\n",
        "    nn.LeakyReLU(0.2, inplace=True),\n",
        "    # out: 128 x 16 x 16\n",
        "    nn.Conv2d(128, 256, kernel_size=4, stride=2, padding=1, bias=False),\n",
        "    nn.BatchNorm2d(256),\n",
        "    nn.LeakyReLU(0.2, inplace=True),\n",
        "    # out: 256 x 8 x 8\n",
        "    nn.Conv2d(256, 512, kernel_size=4, stride=2, padding=1, bias=False),\n",
        "    nn.BatchNorm2d(512),\n",
        "    nn.LeakyReLU(0.2, inplace=True),\n",
        "    # out: 512 x 4 x 4\n",
        "    nn.Conv2d(512, 1, kernel_size=4, stride=1, padding=0, bias=False),\n",
        "    nn.Flatten(),\n",
        "    nn.Sigmoid(),\n",
        ")\n",
        "\n",
        "discriminator = to_device(discriminator, device)\n"
      ]
    },
    {
      "cell_type": "code",
      "execution_count": null,
      "metadata": {
        "id": "ckxlzNUvDVUc"
      },
      "outputs": [],
      "source": [
        "latent_size = 128\n",
        "generator = nn.Sequential(\n",
        "    nn.ConvTranspose2d(\n",
        "        latent_size, 512, kernel_size=4, stride=1, padding=0, bias=False\n",
        "    ),\n",
        "    nn.BatchNorm2d(512),\n",
        "    nn.ReLU(inplace=True),\n",
        "    # out: 512 x 4 x 4\n",
        "    nn.ConvTranspose2d(512, 256, kernel_size=4, stride=2, padding=1, bias=False),\n",
        "    nn.BatchNorm2d(256),\n",
        "    nn.ReLU(inplace=True),\n",
        "    # out: 256 x 8 x 8\n",
        "    nn.ConvTranspose2d(256, 128, kernel_size=4, stride=2, padding=1, bias=False),\n",
        "    nn.BatchNorm2d(128),\n",
        "    nn.ReLU(inplace=True),\n",
        "    # out: 128 x 16 x 16\n",
        "    nn.ConvTranspose2d(128, 64, kernel_size=4, stride=2, padding=1, bias=False),\n",
        "    nn.BatchNorm2d(64),\n",
        "    nn.ReLU(inplace=True),\n",
        "    # out: 64 x 32 x 32\n",
        "    nn.ConvTranspose2d(64, 3, kernel_size=4, stride=2, padding=1, bias=False),\n",
        "    nn.Tanh(),\n",
        ")\n",
        "\n",
        "generator = to_device(generator, device)"
      ]
    },
    {
      "cell_type": "code",
      "execution_count": null,
      "metadata": {
        "id": "inQhgI_LDVUc"
      },
      "outputs": [],
      "source": [
        "def train_descriminator(real_images, optimizer_descriminator):\n",
        "    optimizer_descriminator.zero_grad()\n",
        "\n",
        "    real_preds = discriminator(real_images)\n",
        "    real_targets = torch.ones(real_images.size(0), 1, device=device)\n",
        "    real_loss = Functional.binary_cross_entropy(real_preds, real_targets)\n",
        "    real_score = torch.mean(real_preds).item()\n",
        "\n",
        "    # fake image\n",
        "    latent = torch.randn(batch_size, latent_size, 1, 1, device=device)\n",
        "    fake_images = generator(latent)\n",
        "\n",
        "    fake_preds = discriminator(fake_images)\n",
        "    fake_targets = torch.zeros(fake_images.size(0), 1, device=device)\n",
        "    fake_loss = Functional.binary_cross_entropy(fake_preds, fake_targets)\n",
        "    fake_score = torch.mean(fake_preds).item()\n",
        "\n",
        "    loss = real_loss + fake_loss\n",
        "    loss.backward()\n",
        "    optimizer_descriminator.step()\n",
        "    return loss.item(), real_score, fake_score\n",
        "\n",
        "\n",
        "def train_generator(optimizer_generator):\n",
        "    optimizer_generator.zero_grad()\n",
        "\n",
        "    # fake image\n",
        "    latent = torch.randn(batch_size, latent_size, 1, 1, device=device)\n",
        "    fake_images = generator(latent)\n",
        "\n",
        "    # fool the discriminator\n",
        "    preds = discriminator(fake_images)\n",
        "    targets = torch.ones(batch_size, 1, device=device)\n",
        "    loss = Functional.binary_cross_entropy(preds, targets)\n",
        "\n",
        "    loss.backward()\n",
        "    optimizer_generator.step()\n",
        "\n",
        "    # img\n",
        "    img = fake_images[0].clone().detach().numpy().transpose(1,2,0)\n",
        "\n",
        "    return loss.item(), img"
      ]
    },
    {
      "cell_type": "code",
      "execution_count": null,
      "metadata": {
        "colab": {
          "background_save": true
        },
        "id": "rvzak4ZJDVUc"
      },
      "outputs": [],
      "source": [
        "def fit(epochs, lr, start_index=1):\n",
        "    torch.cuda.empty_cache()\n",
        "\n",
        "    losses_g = []\n",
        "    losses_d = []\n",
        "    real_scores = []\n",
        "    fake_scores = []\n",
        "\n",
        "    optimizer_discriminator = torch.optim.Adam(discriminator.parameters(), lr=lr, betas=(0.5, 0.999))\n",
        "    optimizer_generator = torch.optim.Adam(generator.parameters(), lr=lr, betas=(0.5, 0.999))\n",
        "\n",
        "    for epoch in range(epochs):\n",
        "        batch_losses_g = []\n",
        "        batch_losses_d = []\n",
        "        count = 0\n",
        "        for batch in train_dl:\n",
        "            count += 1\n",
        "            real_images = batch[0]\n",
        "            loss_d, real_score, fake_score = train_descriminator(real_images, optimizer_discriminator)\n",
        "            loss_g, img = train_generator(optimizer_generator)\n",
        "            batch_losses_g.append(loss_g)\n",
        "            batch_losses_d.append(loss_d)\n",
        "\n",
        "            if count % 20 == 0:\n",
        "                plt.imshow(img)\n",
        "                plt.show()\n",
        "\n",
        "        losses_d.append(sum(batch_losses_d) / len(batch_losses_d))\n",
        "        losses_g.append(sum(batch_losses_g) / len(batch_losses_g))\n",
        "        # real_scores.append(real_score)\n",
        "        # fake_scores.append(fake_score)\n",
        "        print(f\"Epochs {epoch+1}/{epochs} loss_g: {loss_g:.2f} loss_d: {loss_d:.2f} real_score: {real_score:.2f} fake_score: {fake_score:.2f}\")\n",
        "\n",
        "        torch.save(generator.state_dict(), \"/content/drive/MyDrive/CODES/Deep_Learning/data/Generator.pth\")\n",
        "        torch.save(discriminator.state_dict(), \"/content/drive/MyDrive/CODES/Deep_Learning/data/Discriminator.pth\")\n",
        "\n",
        "    # return losses_g, losses_d, real_scores, fake_scores\n",
        "    return losses_g, losses_d\n",
        "\n",
        "lr = 0.0002\n",
        "epochs = 25\n",
        "\n",
        "losses_g, losses_d = fit(epochs, lr)\n",
        "plt.plot(losses_d)\n",
        "plt.show()\n",
        "plt.plot(losses_g)\n",
        "plt.show()"
      ]
    }
  ],
  "metadata": {
    "colab": {
      "provenance": []
    },
    "kernelspec": {
      "display_name": "Python 3",
      "name": "python3"
    },
    "language_info": {
      "codemirror_mode": {
        "name": "ipython",
        "version": 3
      },
      "file_extension": ".py",
      "mimetype": "text/x-python",
      "name": "python",
      "nbconvert_exporter": "python",
      "pygments_lexer": "ipython3",
      "version": "3.11.7"
    }
  },
  "nbformat": 4,
  "nbformat_minor": 0
}